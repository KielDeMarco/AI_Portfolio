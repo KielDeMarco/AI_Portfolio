{
  "cells": [
    {
      "cell_type": "markdown",
      "metadata": {
        "id": "view-in-github",
        "colab_type": "text"
      },
      "source": [
        "<a href=\"https://colab.research.google.com/github/KielDeMarco/AI_Portfolio/blob/main/Coursera/Capstone_Project.ipynb\" target=\"_parent\"><img src=\"https://colab.research.google.com/assets/colab-badge.svg\" alt=\"Open In Colab\"/></a>"
      ]
    },
    {
      "cell_type": "markdown",
      "metadata": {
        "id": "HnrgICfRCiqA"
      },
      "source": [
        "# Capstone Project\n",
        "## Image classifier for the SVHN dataset\n",
        "### Instructions\n",
        "\n",
        "In this notebook, you will create a neural network that classifies real-world images digits. You will use concepts from throughout this course in building, training, testing, validating and saving your Tensorflow classifier model.\n",
        "\n",
        "This project is peer-assessed. Within this notebook you will find instructions in each section for how to complete the project. Pay close attention to the instructions as the peer review will be carried out according to a grading rubric that checks key parts of the project instructions. Feel free to add extra cells into the notebook as required.\n",
        "\n",
        "### How to submit\n",
        "\n",
        "When you have completed the Capstone project notebook, you will submit a pdf of the notebook for peer review. First ensure that the notebook has been fully executed from beginning to end, and all of the cell outputs are visible. This is important, as the grading rubric depends on the reviewer being able to view the outputs of your notebook. Save the notebook as a pdf (File -> Download as -> PDF via LaTeX). You should then submit this pdf for review.\n",
        "\n",
        "### Let's get started!\n",
        "\n",
        "We'll start by running some imports, and loading the dataset. For this project you are free to make further imports throughout the notebook as you wish. "
      ]
    },
    {
      "cell_type": "code",
      "execution_count": null,
      "metadata": {
        "colab": {
          "base_uri": "https://localhost:8080/"
        },
        "id": "Ovd1euglCiqD",
        "outputId": "7ce83a61-2f33-4b6b-c37f-27a0af2f57a6"
      },
      "outputs": [
        {
          "output_type": "stream",
          "name": "stdout",
          "text": [
            "2.12.0\n"
          ]
        }
      ],
      "source": [
        "import numpy as np\n",
        "import pandas as pd\n",
        "%matplotlib inline\n",
        "import matplotlib.pyplot as plt\n",
        "import tensorflow as tf\n",
        "from tensorflow import keras\n",
        "from tensorflow.keras import layers\n",
        "from tensorflow.keras.layers import Conv2D, Dense, MaxPool2D, Flatten, BatchNormalization\n",
        "from tensorflow.keras.callbacks import EarlyStopping, ModelCheckpoint\n",
        "from sklearn.model_selection import train_test_split\n",
        "import random\n",
        "print(tf.__version__)\n",
        "from scipy.io import loadmat"
      ]
    },
    {
      "cell_type": "markdown",
      "metadata": {
        "id": "ymC1kSYMCiqE"
      },
      "source": [
        "![SVHN overview image](data/svhn_examples.jpg)\n",
        "For the capstone project, you will use the [SVHN dataset](http://ufldl.stanford.edu/housenumbers/). This is an  image dataset of over 600,000 digit images in all, and is a harder dataset than MNIST as the numbers appear in the context of natural scene images. SVHN is obtained from house numbers in Google Street View images. \n",
        "\n",
        "* Y. Netzer, T. Wang, A. Coates, A. Bissacco, B. Wu and A. Y. Ng. \"Reading Digits in Natural Images with Unsupervised Feature Learning\". NIPS Workshop on Deep Learning and Unsupervised Feature Learning, 2011.\n",
        "\n",
        "Your goal is to develop an end-to-end workflow for building, training, validating, evaluating and saving a neural network that classifies a real-world image into one of ten classes."
      ]
    },
    {
      "cell_type": "code",
      "execution_count": null,
      "metadata": {
        "colab": {
          "base_uri": "https://localhost:8080/",
          "height": 467
        },
        "id": "wVZC6FDUCiqF",
        "outputId": "d18d7b9a-dc7d-4128-b476-525c9934e801"
      },
      "outputs": [
        {
          "output_type": "error",
          "ename": "FileNotFoundError",
          "evalue": "ignored",
          "traceback": [
            "\u001b[0;31m---------------------------------------------------------------------------\u001b[0m",
            "\u001b[0;31mFileNotFoundError\u001b[0m                         Traceback (most recent call last)",
            "\u001b[0;32m/usr/local/lib/python3.9/dist-packages/scipy/io/matlab/_mio.py\u001b[0m in \u001b[0;36m_open_file\u001b[0;34m(file_like, appendmat, mode)\u001b[0m\n\u001b[1;32m     38\u001b[0m     \u001b[0;32mtry\u001b[0m\u001b[0;34m:\u001b[0m\u001b[0;34m\u001b[0m\u001b[0;34m\u001b[0m\u001b[0m\n\u001b[0;32m---> 39\u001b[0;31m         \u001b[0;32mreturn\u001b[0m \u001b[0mopen\u001b[0m\u001b[0;34m(\u001b[0m\u001b[0mfile_like\u001b[0m\u001b[0;34m,\u001b[0m \u001b[0mmode\u001b[0m\u001b[0;34m)\u001b[0m\u001b[0;34m,\u001b[0m \u001b[0;32mTrue\u001b[0m\u001b[0;34m\u001b[0m\u001b[0;34m\u001b[0m\u001b[0m\n\u001b[0m\u001b[1;32m     40\u001b[0m     \u001b[0;32mexcept\u001b[0m \u001b[0mOSError\u001b[0m \u001b[0;32mas\u001b[0m \u001b[0me\u001b[0m\u001b[0;34m:\u001b[0m\u001b[0;34m\u001b[0m\u001b[0;34m\u001b[0m\u001b[0m\n",
            "\u001b[0;31mFileNotFoundError\u001b[0m: [Errno 2] No such file or directory: 'data/train_32x32.mat'",
            "\nDuring handling of the above exception, another exception occurred:\n",
            "\u001b[0;31mFileNotFoundError\u001b[0m                         Traceback (most recent call last)",
            "\u001b[0;32m<ipython-input-2-fd0c697e4bff>\u001b[0m in \u001b[0;36m<cell line: 3>\u001b[0;34m()\u001b[0m\n\u001b[1;32m      1\u001b[0m \u001b[0;31m# Run this cell to load the dataset\u001b[0m\u001b[0;34m\u001b[0m\u001b[0;34m\u001b[0m\u001b[0m\n\u001b[1;32m      2\u001b[0m \u001b[0;34m\u001b[0m\u001b[0m\n\u001b[0;32m----> 3\u001b[0;31m \u001b[0mtrain\u001b[0m \u001b[0;34m=\u001b[0m \u001b[0mloadmat\u001b[0m\u001b[0;34m(\u001b[0m\u001b[0;34m'data/train_32x32.mat'\u001b[0m\u001b[0;34m)\u001b[0m\u001b[0;34m\u001b[0m\u001b[0;34m\u001b[0m\u001b[0m\n\u001b[0m\u001b[1;32m      4\u001b[0m \u001b[0mtest\u001b[0m \u001b[0;34m=\u001b[0m \u001b[0mloadmat\u001b[0m\u001b[0;34m(\u001b[0m\u001b[0;34m'data/test_32x32.mat'\u001b[0m\u001b[0;34m)\u001b[0m\u001b[0;34m\u001b[0m\u001b[0;34m\u001b[0m\u001b[0m\n",
            "\u001b[0;32m/usr/local/lib/python3.9/dist-packages/scipy/io/matlab/_mio.py\u001b[0m in \u001b[0;36mloadmat\u001b[0;34m(file_name, mdict, appendmat, **kwargs)\u001b[0m\n\u001b[1;32m    223\u001b[0m     \"\"\"\n\u001b[1;32m    224\u001b[0m     \u001b[0mvariable_names\u001b[0m \u001b[0;34m=\u001b[0m \u001b[0mkwargs\u001b[0m\u001b[0;34m.\u001b[0m\u001b[0mpop\u001b[0m\u001b[0;34m(\u001b[0m\u001b[0;34m'variable_names'\u001b[0m\u001b[0;34m,\u001b[0m \u001b[0;32mNone\u001b[0m\u001b[0;34m)\u001b[0m\u001b[0;34m\u001b[0m\u001b[0;34m\u001b[0m\u001b[0m\n\u001b[0;32m--> 225\u001b[0;31m     \u001b[0;32mwith\u001b[0m \u001b[0m_open_file_context\u001b[0m\u001b[0;34m(\u001b[0m\u001b[0mfile_name\u001b[0m\u001b[0;34m,\u001b[0m \u001b[0mappendmat\u001b[0m\u001b[0;34m)\u001b[0m \u001b[0;32mas\u001b[0m \u001b[0mf\u001b[0m\u001b[0;34m:\u001b[0m\u001b[0;34m\u001b[0m\u001b[0;34m\u001b[0m\u001b[0m\n\u001b[0m\u001b[1;32m    226\u001b[0m         \u001b[0mMR\u001b[0m\u001b[0;34m,\u001b[0m \u001b[0m_\u001b[0m \u001b[0;34m=\u001b[0m \u001b[0mmat_reader_factory\u001b[0m\u001b[0;34m(\u001b[0m\u001b[0mf\u001b[0m\u001b[0;34m,\u001b[0m \u001b[0;34m**\u001b[0m\u001b[0mkwargs\u001b[0m\u001b[0;34m)\u001b[0m\u001b[0;34m\u001b[0m\u001b[0;34m\u001b[0m\u001b[0m\n\u001b[1;32m    227\u001b[0m         \u001b[0mmatfile_dict\u001b[0m \u001b[0;34m=\u001b[0m \u001b[0mMR\u001b[0m\u001b[0;34m.\u001b[0m\u001b[0mget_variables\u001b[0m\u001b[0;34m(\u001b[0m\u001b[0mvariable_names\u001b[0m\u001b[0;34m)\u001b[0m\u001b[0;34m\u001b[0m\u001b[0;34m\u001b[0m\u001b[0m\n",
            "\u001b[0;32m/usr/lib/python3.9/contextlib.py\u001b[0m in \u001b[0;36m__enter__\u001b[0;34m(self)\u001b[0m\n\u001b[1;32m    117\u001b[0m         \u001b[0;32mdel\u001b[0m \u001b[0mself\u001b[0m\u001b[0;34m.\u001b[0m\u001b[0margs\u001b[0m\u001b[0;34m,\u001b[0m \u001b[0mself\u001b[0m\u001b[0;34m.\u001b[0m\u001b[0mkwds\u001b[0m\u001b[0;34m,\u001b[0m \u001b[0mself\u001b[0m\u001b[0;34m.\u001b[0m\u001b[0mfunc\u001b[0m\u001b[0;34m\u001b[0m\u001b[0;34m\u001b[0m\u001b[0m\n\u001b[1;32m    118\u001b[0m         \u001b[0;32mtry\u001b[0m\u001b[0;34m:\u001b[0m\u001b[0;34m\u001b[0m\u001b[0;34m\u001b[0m\u001b[0m\n\u001b[0;32m--> 119\u001b[0;31m             \u001b[0;32mreturn\u001b[0m \u001b[0mnext\u001b[0m\u001b[0;34m(\u001b[0m\u001b[0mself\u001b[0m\u001b[0;34m.\u001b[0m\u001b[0mgen\u001b[0m\u001b[0;34m)\u001b[0m\u001b[0;34m\u001b[0m\u001b[0;34m\u001b[0m\u001b[0m\n\u001b[0m\u001b[1;32m    120\u001b[0m         \u001b[0;32mexcept\u001b[0m \u001b[0mStopIteration\u001b[0m\u001b[0;34m:\u001b[0m\u001b[0;34m\u001b[0m\u001b[0;34m\u001b[0m\u001b[0m\n\u001b[1;32m    121\u001b[0m             \u001b[0;32mraise\u001b[0m \u001b[0mRuntimeError\u001b[0m\u001b[0;34m(\u001b[0m\u001b[0;34m\"generator didn't yield\"\u001b[0m\u001b[0;34m)\u001b[0m \u001b[0;32mfrom\u001b[0m \u001b[0;32mNone\u001b[0m\u001b[0;34m\u001b[0m\u001b[0;34m\u001b[0m\u001b[0m\n",
            "\u001b[0;32m/usr/local/lib/python3.9/dist-packages/scipy/io/matlab/_mio.py\u001b[0m in \u001b[0;36m_open_file_context\u001b[0;34m(file_like, appendmat, mode)\u001b[0m\n\u001b[1;32m     15\u001b[0m \u001b[0;34m@\u001b[0m\u001b[0mcontextmanager\u001b[0m\u001b[0;34m\u001b[0m\u001b[0;34m\u001b[0m\u001b[0m\n\u001b[1;32m     16\u001b[0m \u001b[0;32mdef\u001b[0m \u001b[0m_open_file_context\u001b[0m\u001b[0;34m(\u001b[0m\u001b[0mfile_like\u001b[0m\u001b[0;34m,\u001b[0m \u001b[0mappendmat\u001b[0m\u001b[0;34m,\u001b[0m \u001b[0mmode\u001b[0m\u001b[0;34m=\u001b[0m\u001b[0;34m'rb'\u001b[0m\u001b[0;34m)\u001b[0m\u001b[0;34m:\u001b[0m\u001b[0;34m\u001b[0m\u001b[0;34m\u001b[0m\u001b[0m\n\u001b[0;32m---> 17\u001b[0;31m     \u001b[0mf\u001b[0m\u001b[0;34m,\u001b[0m \u001b[0mopened\u001b[0m \u001b[0;34m=\u001b[0m \u001b[0m_open_file\u001b[0m\u001b[0;34m(\u001b[0m\u001b[0mfile_like\u001b[0m\u001b[0;34m,\u001b[0m \u001b[0mappendmat\u001b[0m\u001b[0;34m,\u001b[0m \u001b[0mmode\u001b[0m\u001b[0;34m)\u001b[0m\u001b[0;34m\u001b[0m\u001b[0;34m\u001b[0m\u001b[0m\n\u001b[0m\u001b[1;32m     18\u001b[0m     \u001b[0;32mtry\u001b[0m\u001b[0;34m:\u001b[0m\u001b[0;34m\u001b[0m\u001b[0;34m\u001b[0m\u001b[0m\n\u001b[1;32m     19\u001b[0m         \u001b[0;32myield\u001b[0m \u001b[0mf\u001b[0m\u001b[0;34m\u001b[0m\u001b[0;34m\u001b[0m\u001b[0m\n",
            "\u001b[0;32m/usr/local/lib/python3.9/dist-packages/scipy/io/matlab/_mio.py\u001b[0m in \u001b[0;36m_open_file\u001b[0;34m(file_like, appendmat, mode)\u001b[0m\n\u001b[1;32m     43\u001b[0m             \u001b[0;32mif\u001b[0m \u001b[0mappendmat\u001b[0m \u001b[0;32mand\u001b[0m \u001b[0;32mnot\u001b[0m \u001b[0mfile_like\u001b[0m\u001b[0;34m.\u001b[0m\u001b[0mendswith\u001b[0m\u001b[0;34m(\u001b[0m\u001b[0;34m'.mat'\u001b[0m\u001b[0;34m)\u001b[0m\u001b[0;34m:\u001b[0m\u001b[0;34m\u001b[0m\u001b[0;34m\u001b[0m\u001b[0m\n\u001b[1;32m     44\u001b[0m                 \u001b[0mfile_like\u001b[0m \u001b[0;34m+=\u001b[0m \u001b[0;34m'.mat'\u001b[0m\u001b[0;34m\u001b[0m\u001b[0;34m\u001b[0m\u001b[0m\n\u001b[0;32m---> 45\u001b[0;31m             \u001b[0;32mreturn\u001b[0m \u001b[0mopen\u001b[0m\u001b[0;34m(\u001b[0m\u001b[0mfile_like\u001b[0m\u001b[0;34m,\u001b[0m \u001b[0mmode\u001b[0m\u001b[0;34m)\u001b[0m\u001b[0;34m,\u001b[0m \u001b[0;32mTrue\u001b[0m\u001b[0;34m\u001b[0m\u001b[0;34m\u001b[0m\u001b[0m\n\u001b[0m\u001b[1;32m     46\u001b[0m         \u001b[0;32melse\u001b[0m\u001b[0;34m:\u001b[0m\u001b[0;34m\u001b[0m\u001b[0;34m\u001b[0m\u001b[0m\n\u001b[1;32m     47\u001b[0m             raise OSError(\n",
            "\u001b[0;31mFileNotFoundError\u001b[0m: [Errno 2] No such file or directory: 'data/train_32x32.mat'"
          ]
        }
      ],
      "source": [
        "# Run this cell to load the dataset\n",
        "\n",
        "train = loadmat('data/train_32x32.mat')\n",
        "test = loadmat('data/test_32x32.mat')"
      ]
    },
    {
      "cell_type": "markdown",
      "metadata": {
        "id": "dkYqIwXwCiqF"
      },
      "source": [
        "Both `train` and `test` are dictionaries with keys `X` and `y` for the input images and labels respectively."
      ]
    },
    {
      "cell_type": "markdown",
      "metadata": {
        "id": "VZhtSXljCiqG"
      },
      "source": [
        "## 1. Inspect and preprocess the dataset\n",
        "* Extract the training and testing images and labels separately from the train and test dictionaries loaded for you.\n",
        "* Select a random sample of images and corresponding labels from the dataset (at least 10), and display them in a figure.\n",
        "* Convert the training and test images to grayscale by taking the average across all colour channels for each pixel. _Hint: retain the channel dimension, which will now have size 1._\n",
        "* Select a random sample of the grayscale images and corresponding labels from the dataset (at least 10), and display them in a figure."
      ]
    },
    {
      "cell_type": "code",
      "execution_count": null,
      "metadata": {
        "id": "-1JBsew2CiqG"
      },
      "outputs": [],
      "source": [
        "X_train = train['X']\n",
        "y_train = train['y']\n",
        "X_test = test['X']\n",
        "y_test = test['y']"
      ]
    },
    {
      "cell_type": "code",
      "execution_count": null,
      "metadata": {
        "id": "rZTpZerqCiqG"
      },
      "outputs": [],
      "source": [
        "X_train = np.moveaxis(X_train, -1, 0)\n",
        "X_test = np.moveaxis(X_test, -1, 0)"
      ]
    },
    {
      "cell_type": "code",
      "execution_count": null,
      "metadata": {
        "id": "oIFN_7HSCiqG"
      },
      "outputs": [],
      "source": [
        "y_train = np.where(y_train==10, 0, y_train)\n",
        "y_test = np.where(y_test==10, 0, y_test)"
      ]
    },
    {
      "cell_type": "code",
      "execution_count": null,
      "metadata": {
        "id": "XAvU9jwrCiqH",
        "outputId": "3b188828-329b-42dc-c0c8-9b2bfc3efb05"
      },
      "outputs": [
        {
          "data": {
            "image/png": "[encoded data removed]",
            "text/plain": [
              "<Figure size 720x72 with 10 Axes>"
            ]
          },
          "metadata": {
            "needs_background": "light"
          },
          "output_type": "display_data"
        }
      ],
      "source": [
        "ind = random.sample( range(0,X_train.shape[0]), 10)\n",
        "fig, ax = plt.subplots(1, 10, figsize=(10,1))\n",
        "\n",
        "for img in range(10):\n",
        "    ax[img].set_axis_off()\n",
        "    ax[img].imshow(X_train[ind[img]])\n",
        "    ax[img].set_title(y_train[ind[img]])"
      ]
    },
    {
      "cell_type": "code",
      "execution_count": null,
      "metadata": {
        "id": "N5V3dXDwCiqH"
      },
      "outputs": [],
      "source": [
        "X_g_train = np.mean(X_train, -1, keepdims=True)\n",
        "X_g_test = np.mean(X_test, -1, keepdims=True)"
      ]
    },
    {
      "cell_type": "code",
      "execution_count": null,
      "metadata": {
        "id": "cQFC-cRdCiqH",
        "outputId": "7d867971-9466-446e-ea76-34b2dbfdf437"
      },
      "outputs": [
        {
          "data": {
            "image/png": "[encoded data removed]",
            "text/plain": [
              "<Figure size 720x72 with 10 Axes>"
            ]
          },
          "metadata": {
            "needs_background": "light"
          },
          "output_type": "display_data"
        }
      ],
      "source": [
        "ind = random.sample( range(0,X_g_train.shape[0]), 10 )\n",
        "fig, ax = plt.subplots(1, 10, figsize=(10,1))\n",
        "\n",
        "for img in range(10):\n",
        "    ax[img].set_axis_off()\n",
        "    ax[img].imshow(X_g_train[ind[img],:,:,0], cmap='gray')\n",
        "    ax[img].set_title(y_train[ind[img]])"
      ]
    },
    {
      "cell_type": "markdown",
      "metadata": {
        "id": "_E-0kukBCiqI"
      },
      "source": [
        "## 2. MLP neural network classifier\n",
        "* Build an MLP classifier model using the Sequential API. Your model should use only Flatten and Dense layers, with the final layer having a 10-way softmax output. \n",
        "* You should design and build the model yourself. Feel free to experiment with different MLP architectures. _Hint: to achieve a reasonable accuracy you won't need to use more than 4 or 5 layers._\n",
        "* Print out the model summary (using the summary() method)\n",
        "* Compile and train the model (we recommend a maximum of 30 epochs), making use of both training and validation sets during the training run. \n",
        "* Your model should track at least one appropriate metric, and use at least two callbacks during training, one of which should be a ModelCheckpoint callback.\n",
        "* As a guide, you should aim to achieve a final categorical cross entropy training loss of less than 1.0 (the validation loss might be higher).\n",
        "* Plot the learning curves for loss vs epoch and accuracy vs epoch for both training and validation sets.\n",
        "* Compute and display the loss and accuracy of the trained model on the test set."
      ]
    },
    {
      "cell_type": "code",
      "execution_count": null,
      "metadata": {
        "id": "CSWhAvAHCiqJ",
        "outputId": "5f1a9352-60f7-4058-f0ec-f7e95ca92ed6"
      },
      "outputs": [
        {
          "name": "stdout",
          "output_type": "stream",
          "text": [
            "Model: \"sequential\"\n",
            "_________________________________________________________________\n",
            "Layer (type)                 Output Shape              Param #   \n",
            "=================================================================\n",
            "flatten (Flatten)            (None, 3072)              0         \n",
            "_________________________________________________________________\n",
            "dense (Dense)                (None, 512)               1573376   \n",
            "_________________________________________________________________\n",
            "dense_1 (Dense)              (None, 512)               262656    \n",
            "_________________________________________________________________\n",
            "dense_2 (Dense)              (None, 256)               131328    \n",
            "_________________________________________________________________\n",
            "dense_3 (Dense)              (None, 128)               32896     \n",
            "_________________________________________________________________\n",
            "dense_4 (Dense)              (None, 10)                1290      \n",
            "=================================================================\n",
            "Total params: 2,001,546\n",
            "Trainable params: 2,001,546\n",
            "Non-trainable params: 0\n",
            "_________________________________________________________________\n"
          ]
        }
      ],
      "source": [
        "def mlp_model():\n",
        "    model = tf.keras.Sequential([\n",
        "        tf.keras.layers.Flatten(input_shape=(32,32,3)),\n",
        "        tf.keras.layers.Dense(512, activation='relu'),\n",
        "        tf.keras.layers.Dense(512, activation='relu'),\n",
        "        tf.keras.layers.Dense(256, activation='relu'),\n",
        "        tf.keras.layers.Dense(128, activation='relu'),\n",
        "        tf.keras.layers.Dense(10, activation='softmax')\n",
        "    ])\n",
        "    \n",
        "    return model\n",
        "\n",
        "model=mlp_model()\n",
        "model.summary()"
      ]
    },
    {
      "cell_type": "code",
      "execution_count": null,
      "metadata": {
        "id": "HzXBwkATCiqJ"
      },
      "outputs": [],
      "source": [
        "opt = tf.keras.optimizers.Adam(learning_rate=0.0001)\n",
        "loss=tf.keras.losses.SparseCategoricalCrossentropy()\n",
        "\n",
        "model.compile(\n",
        "  optimizer=opt,\n",
        "  loss=loss,\n",
        "  metrics=['accuracy'])"
      ]
    },
    {
      "cell_type": "code",
      "execution_count": null,
      "metadata": {
        "id": "nKcdrKw8CiqJ"
      },
      "outputs": [],
      "source": [
        "path = 'mlp_check/Best'\n",
        "check = ModelCheckpoint(path,\n",
        "                     save_best_only=True,\n",
        "                     save_weights_only=True,\n",
        "                     verbose=False,\n",
        "                     save_freq='epoch',\n",
        "                     monitor='val_loss',\n",
        "                     mode='min')"
      ]
    },
    {
      "cell_type": "code",
      "execution_count": null,
      "metadata": {
        "id": "vXTj6ahFCiqK",
        "outputId": "cc0b8587-903f-451c-bb3d-3726a36e3fa9"
      },
      "outputs": [
        {
          "name": "stdout",
          "output_type": "stream",
          "text": [
            "Train on 65931 samples, validate on 7326 samples\n",
            "Epoch 1/20\n",
            "65931/65931 [==============================] - 101s 2ms/sample - loss: 5.4363 - accuracy: 0.2617 - val_loss: 2.7822 - val_accuracy: 0.3238\n",
            "Epoch 2/20\n",
            "65931/65931 [==============================] - 99s 2ms/sample - loss: 2.1067 - accuracy: 0.4482 - val_loss: 1.7076 - val_accuracy: 0.5037\n",
            "Epoch 3/20\n",
            "65931/65931 [==============================] - 104s 2ms/sample - loss: 1.5558 - accuracy: 0.5524 - val_loss: 1.4847 - val_accuracy: 0.5564\n",
            "Epoch 4/20\n",
            "65931/65931 [==============================] - 105s 2ms/sample - loss: 1.3714 - accuracy: 0.5954 - val_loss: 1.3848 - val_accuracy: 0.5762\n",
            "Epoch 5/20\n",
            "65931/65931 [==============================] - 107s 2ms/sample - loss: 1.2328 - accuracy: 0.6272 - val_loss: 1.1855 - val_accuracy: 0.6436\n",
            "Epoch 6/20\n",
            "65931/65931 [==============================] - 107s 2ms/sample - loss: 1.1650 - accuracy: 0.6469 - val_loss: 1.2766 - val_accuracy: 0.6047\n",
            "Epoch 7/20\n",
            "65931/65931 [==============================] - 104s 2ms/sample - loss: 1.0886 - accuracy: 0.6688 - val_loss: 1.0072 - val_accuracy: 0.6953\n",
            "Epoch 8/20\n",
            "65931/65931 [==============================] - 106s 2ms/sample - loss: 1.0310 - accuracy: 0.6880 - val_loss: 0.9769 - val_accuracy: 0.7083\n",
            "Epoch 9/20\n",
            "65931/65931 [==============================] - 105s 2ms/sample - loss: 0.9885 - accuracy: 0.7003 - val_loss: 0.9736 - val_accuracy: 0.7135\n",
            "Epoch 10/20\n",
            "65931/65931 [==============================] - 103s 2ms/sample - loss: 0.9399 - accuracy: 0.7136 - val_loss: 0.9192 - val_accuracy: 0.7230\n",
            "Epoch 11/20\n",
            "65931/65931 [==============================] - 101s 2ms/sample - loss: 0.8993 - accuracy: 0.7268 - val_loss: 0.9133 - val_accuracy: 0.7138\n",
            "Epoch 12/20\n",
            "65931/65931 [==============================] - 100s 2ms/sample - loss: 0.8516 - accuracy: 0.7430 - val_loss: 0.8639 - val_accuracy: 0.7405\n",
            "Epoch 13/20\n",
            "65931/65931 [==============================] - 101s 2ms/sample - loss: 0.8273 - accuracy: 0.7486 - val_loss: 0.8929 - val_accuracy: 0.7353\n",
            "Epoch 14/20\n",
            "65931/65931 [==============================] - 99s 1ms/sample - loss: 0.7895 - accuracy: 0.7607 - val_loss: 0.7927 - val_accuracy: 0.7651\n",
            "Epoch 15/20\n",
            "65931/65931 [==============================] - 100s 2ms/sample - loss: 0.7662 - accuracy: 0.7672 - val_loss: 0.8877 - val_accuracy: 0.7416\n",
            "Epoch 16/20\n",
            "65931/65931 [==============================] - 100s 2ms/sample - loss: 0.7399 - accuracy: 0.7747 - val_loss: 0.7204 - val_accuracy: 0.7876\n",
            "Epoch 17/20\n",
            "65931/65931 [==============================] - 99s 2ms/sample - loss: 0.7143 - accuracy: 0.7842 - val_loss: 0.7186 - val_accuracy: 0.7801\n",
            "Epoch 18/20\n",
            "65931/65931 [==============================] - 100s 2ms/sample - loss: 0.6915 - accuracy: 0.7908 - val_loss: 0.8695 - val_accuracy: 0.7412\n",
            "Epoch 19/20\n",
            "65931/65931 [==============================] - 99s 1ms/sample - loss: 0.6751 - accuracy: 0.7944 - val_loss: 0.7390 - val_accuracy: 0.7873\n",
            "Epoch 20/20\n",
            "65931/65931 [==============================] - 99s 2ms/sample - loss: 0.6517 - accuracy: 0.8009 - val_loss: 0.7395 - val_accuracy: 0.7816\n"
          ]
        }
      ],
      "source": [
        "history = model.fit(X_train, y_train, epochs=20, batch_size=64, verbose=1, validation_split=0.1, \n",
        "                    callbacks=[tf.keras.callbacks.EarlyStopping(patience=4)])"
      ]
    },
    {
      "cell_type": "code",
      "execution_count": null,
      "metadata": {
        "id": "4xUFKWH6CiqK",
        "outputId": "8e275020-4b9a-4b48-eb4f-d650dcf91885"
      },
      "outputs": [
        {
          "data": {
            "image/png": "[encoded data removed]",
            "text/plain": [
              "<Figure size 864x360 with 1 Axes>"
            ]
          },
          "metadata": {
            "needs_background": "light"
          },
          "output_type": "display_data"
        }
      ],
      "source": [
        "fig = plt.figure(figsize=(12, 5))\n",
        "\n",
        "fig.add_subplot(121)\n",
        "\n",
        "plt.plot(history.history['loss'])\n",
        "plt.plot(history.history['val_loss'])\n",
        "plt.title('non-cnn: loss vs. epochs')\n",
        "plt.ylabel('Loss')\n",
        "plt.xlabel('Epoch')\n",
        "plt.legend(['Training', 'Validation'], loc='upper right')\n",
        "\n",
        "plt.show()"
      ]
    },
    {
      "cell_type": "code",
      "execution_count": null,
      "metadata": {
        "id": "QDEx6GaeCiqK",
        "outputId": "eb7c2d92-56d0-4cf7-efe0-b86c0b933a33"
      },
      "outputs": [
        {
          "data": {
            "image/png": "[encoded data removed]",
            "text/plain": [
              "<Figure size 1080x504 with 1 Axes>"
            ]
          },
          "metadata": {
            "needs_background": "light"
          },
          "output_type": "display_data"
        }
      ],
      "source": [
        "fig = plt.figure(figsize=(15, 7))\n",
        "\n",
        "fig.add_subplot(121)\n",
        "\n",
        "plt.plot(history.history['accuracy'])\n",
        "plt.plot(history.history['val_accuracy'])\n",
        "plt.title('non-cnn: loss vs. epochs')\n",
        "plt.ylabel('Accuracy')\n",
        "plt.xlabel('Epoch')\n",
        "plt.legend(['Training Accuracy', 'Validation Accuracy'], loc='upper right')\n",
        "\n",
        "plt.show()"
      ]
    },
    {
      "cell_type": "code",
      "execution_count": null,
      "metadata": {
        "id": "jpB7kZSyCiqL",
        "outputId": "1a517452-4a96-4a69-b21f-e8e882ead3a8"
      },
      "outputs": [
        {
          "name": "stdout",
          "output_type": "stream",
          "text": [
            "loss = 0.9031455713909832\n",
            "accuracy = 0.7532268166542053\n"
          ]
        }
      ],
      "source": [
        "loss, accuracy = model.evaluate(X_test, y_test, verbose=0)\n",
        "print(f\"loss = {loss}\")\n",
        "print(f\"accuracy = {accuracy}\")"
      ]
    },
    {
      "cell_type": "markdown",
      "metadata": {
        "id": "9Dkp8eh-CiqL"
      },
      "source": [
        "## 3. CNN neural network classifier\n",
        "* Build a CNN classifier model using the Sequential API. Your model should use the Conv2D, MaxPool2D, BatchNormalization, Flatten, Dense and Dropout layers. The final layer should again have a 10-way softmax output. \n",
        "* You should design and build the model yourself. Feel free to experiment with different CNN architectures. _Hint: to achieve a reasonable accuracy you won't need to use more than 2 or 3 convolutional layers and 2 fully connected layers.)_\n",
        "* The CNN model should use fewer trainable parameters than your MLP model.\n",
        "* Compile and train the model (we recommend a maximum of 30 epochs), making use of both training and validation sets during the training run.\n",
        "* Your model should track at least one appropriate metric, and use at least two callbacks during training, one of which should be a ModelCheckpoint callback.\n",
        "* You should aim to beat the MLP model performance with fewer parameters!\n",
        "* Plot the learning curves for loss vs epoch and accuracy vs epoch for both training and validation sets.\n",
        "* Compute and display the loss and accuracy of the trained model on the test set."
      ]
    },
    {
      "cell_type": "code",
      "execution_count": null,
      "metadata": {
        "id": "j-T436iwCiqL",
        "outputId": "95dd8364-5397-4617-c83d-102663ca2281"
      },
      "outputs": [
        {
          "name": "stdout",
          "output_type": "stream",
          "text": [
            "Model: \"sequential_1\"\n",
            "_________________________________________________________________\n",
            "Layer (type)                 Output Shape              Param #   \n",
            "=================================================================\n",
            "conv2d (Conv2D)              (None, 32, 32, 16)        448       \n",
            "_________________________________________________________________\n",
            "batch_normalization (BatchNo (None, 32, 32, 16)        64        \n",
            "_________________________________________________________________\n",
            "max_pooling2d (MaxPooling2D) (None, 16, 16, 16)        0         \n",
            "_________________________________________________________________\n",
            "conv2d_1 (Conv2D)            (None, 16, 16, 16)        2320      \n",
            "_________________________________________________________________\n",
            "batch_normalization_1 (Batch (None, 16, 16, 16)        64        \n",
            "_________________________________________________________________\n",
            "max_pooling2d_1 (MaxPooling2 (None, 8, 8, 16)          0         \n",
            "_________________________________________________________________\n",
            "conv2d_2 (Conv2D)            (None, 8, 8, 16)          2320      \n",
            "_________________________________________________________________\n",
            "batch_normalization_2 (Batch (None, 8, 8, 16)          64        \n",
            "_________________________________________________________________\n",
            "max_pooling2d_2 (MaxPooling2 (None, 4, 4, 16)          0         \n",
            "_________________________________________________________________\n",
            "flatten_1 (Flatten)          (None, 256)               0         \n",
            "_________________________________________________________________\n",
            "dense_5 (Dense)              (None, 256)               65792     \n",
            "_________________________________________________________________\n",
            "dropout (Dropout)            (None, 256)               0         \n",
            "_________________________________________________________________\n",
            "dense_6 (Dense)              (None, 128)               32896     \n",
            "_________________________________________________________________\n",
            "dropout_1 (Dropout)          (None, 128)               0         \n",
            "_________________________________________________________________\n",
            "dense_7 (Dense)              (None, 10)                1290      \n",
            "=================================================================\n",
            "Total params: 105,258\n",
            "Trainable params: 105,162\n",
            "Non-trainable params: 96\n",
            "_________________________________________________________________\n"
          ]
        }
      ],
      "source": [
        "def CNN_model():\n",
        "    cnn_model = tf.keras.Sequential([\n",
        "        tf.keras.layers.Conv2D(16, 3, padding='same', activation='relu', \n",
        "                               input_shape=(32, 32, 3)),\n",
        "        tf.keras.layers.BatchNormalization(),\n",
        "        tf.keras.layers.MaxPool2D(2),\n",
        "        tf.keras.layers.Conv2D(16, 3, padding='same', activation='relu'),\n",
        "        tf.keras.layers.BatchNormalization(),\n",
        "        tf.keras.layers.MaxPool2D(2),\n",
        "        tf.keras.layers.Conv2D(16, 3, padding='same', activation='relu'),\n",
        "        tf.keras.layers.BatchNormalization(),\n",
        "        tf.keras.layers.MaxPool2D(2),\n",
        "        tf.keras.layers.Flatten(),\n",
        "        tf.keras.layers.Dense(256, activation='relu'),\n",
        "        tf.keras.layers.Dropout(0.2),\n",
        "        tf.keras.layers.Dense(128, activation='relu'),\n",
        "        tf.keras.layers.Dropout(0.2),\n",
        "        tf.keras.layers.Dense(10, 'softmax')\n",
        "    ])\n",
        "    return cnn_model\n",
        "\n",
        "cnn_model=CNN_model()\n",
        "cnn_model.summary()"
      ]
    },
    {
      "cell_type": "code",
      "execution_count": null,
      "metadata": {
        "id": "Q_Pu35nlCiqM"
      },
      "outputs": [],
      "source": [
        "opt = tf.keras.optimizers.Adam(learning_rate=0.0001)\n",
        "loss=tf.keras.losses.SparseCategoricalCrossentropy()\n",
        "\n",
        "cnn_model.compile(\n",
        "  optimizer=opt,\n",
        "  loss=loss,\n",
        "  metrics=['accuracy'])"
      ]
    },
    {
      "cell_type": "code",
      "execution_count": null,
      "metadata": {
        "id": "lpHyyYClCiqM"
      },
      "outputs": [],
      "source": [
        "path = 'cnn_check/Best'\n",
        "check = ModelCheckpoint(path,\n",
        "                     save_best_only=True,\n",
        "                     save_weights_only=True,\n",
        "                     verbose=False,\n",
        "                     save_freq='epoch',\n",
        "                     monitor='val_loss',\n",
        "                     mode='min')"
      ]
    },
    {
      "cell_type": "code",
      "execution_count": null,
      "metadata": {
        "id": "Wtc_nyTjCiqM",
        "outputId": "43837b0a-acda-4839-9c72-7c40c8615773"
      },
      "outputs": [
        {
          "name": "stdout",
          "output_type": "stream",
          "text": [
            "Train on 65931 samples, validate on 7326 samples\n",
            "Epoch 1/20\n",
            "65931/65931 [==============================] - 439s 7ms/sample - loss: 1.9785 - accuracy: 0.3132 - val_loss: 1.2270 - val_accuracy: 0.6125\n",
            "Epoch 2/20\n",
            "65931/65931 [==============================] - 437s 7ms/sample - loss: 1.0058 - accuracy: 0.6728 - val_loss: 0.7138 - val_accuracy: 0.7734\n",
            "Epoch 3/20\n",
            "65931/65931 [==============================] - 452s 7ms/sample - loss: 0.7215 - accuracy: 0.7708 - val_loss: 0.5930 - val_accuracy: 0.8148\n",
            "Epoch 4/20\n",
            "65931/65931 [==============================] - 459s 7ms/sample - loss: 0.6093 - accuracy: 0.8085 - val_loss: 0.5290 - val_accuracy: 0.8376\n",
            "Epoch 5/20\n",
            "65931/65931 [==============================] - 457s 7ms/sample - loss: 0.5413 - accuracy: 0.8293 - val_loss: 0.4864 - val_accuracy: 0.8494\n",
            "Epoch 6/20\n",
            "65931/65931 [==============================] - 447s 7ms/sample - loss: 0.4967 - accuracy: 0.8449 - val_loss: 0.4523 - val_accuracy: 0.8612\n",
            "Epoch 7/20\n",
            "65931/65931 [==============================] - 447s 7ms/sample - loss: 0.4617 - accuracy: 0.8568 - val_loss: 0.4468 - val_accuracy: 0.8624\n",
            "Epoch 8/20\n",
            " 8672/65931 [==>...........................] - ETA: 6:04 - loss: 0.4325 - accuracy: 0.8646"
          ]
        }
      ],
      "source": [
        "callback=tf.keras.callbacks.EarlyStopping(patience=4)\n",
        "history = cnn_model.fit(X_train, y_train, epochs=20, batch_size=32, verbose=1, validation_split=0.1, \n",
        "                    callbacks=[check, callback])"
      ]
    },
    {
      "cell_type": "code",
      "execution_count": null,
      "metadata": {
        "id": "ENstcSXcCiqM"
      },
      "outputs": [],
      "source": [
        "fig = plt.figure(figsize=(12, 5))\n",
        "\n",
        "fig.add_subplot(121)\n",
        "\n",
        "plt.plot(history.history['loss'])\n",
        "plt.plot(history.history['val_loss'])\n",
        "plt.title('non-cnn: loss vs. epochs')\n",
        "plt.ylabel('Loss')\n",
        "plt.xlabel('Epoch')\n",
        "plt.legend(['Training', 'Validation'], loc='upper right')\n",
        "\n",
        "plt.show()"
      ]
    },
    {
      "cell_type": "code",
      "execution_count": null,
      "metadata": {
        "id": "73d_1_DTCiqN"
      },
      "outputs": [],
      "source": [
        "fig = plt.figure(figsize=(15, 7))\n",
        "\n",
        "fig.add_subplot(121)\n",
        "\n",
        "plt.plot(history.history['accuracy'])\n",
        "plt.plot(history.history['val_accuracy'])\n",
        "plt.title('cnn: loss vs. epochs')\n",
        "plt.ylabel('Accuracy')\n",
        "plt.xlabel('Epoch')\n",
        "plt.legend(['Training Accuracy', 'Validation Accuracy'], loc='upper right')\n",
        "\n",
        "plt.show()"
      ]
    },
    {
      "cell_type": "code",
      "execution_count": null,
      "metadata": {
        "id": "Uk-nyaU5CiqN"
      },
      "outputs": [],
      "source": [
        "loss, accuracy = model.evaluate(X_test, y_test, verbose=0)\n",
        "print(f\"loss = {loss}\")\n",
        "print(f\"accuracy = {accuracy}\")"
      ]
    },
    {
      "cell_type": "markdown",
      "metadata": {
        "id": "1Vo90DajCiqN"
      },
      "source": [
        "## 4. Get model predictions\n",
        "* Load the best weights for the MLP and CNN models that you saved during the training run.\n",
        "* Randomly select 5 images and corresponding labels from the test set and display the images with their labels.\n",
        "* Alongside the image and label, show each model’s predictive distribution as a bar chart, and the final model prediction given by the label with maximum probability."
      ]
    },
    {
      "cell_type": "code",
      "execution_count": null,
      "metadata": {
        "id": "L6yOkFzLCiqN"
      },
      "outputs": [],
      "source": [
        "mlp_best = mlp_model()\n",
        "mlp_best.load_weights('mlp_check/Best')"
      ]
    },
    {
      "cell_type": "code",
      "execution_count": null,
      "metadata": {
        "id": "ufBJM3CzCiqN"
      },
      "outputs": [],
      "source": [
        "cnn_best = CNN_model()\n",
        "cnn_best.load_weights('cnn_check/Best')"
      ]
    },
    {
      "cell_type": "code",
      "execution_count": null,
      "metadata": {
        "id": "F3BRN5JICiqO"
      },
      "outputs": [],
      "source": [
        "def predictions(best_model):\n",
        "\n",
        "    num_images = X_test.shape[0]\n",
        "\n",
        "    r_in = np.random.choice(num_images, 5)\n",
        "    r_images = X_test[random_in, ...]\n",
        "    r_labels = y_test[random_in, ...]\n",
        "\n",
        "    pred = best_model.predict(r_images)\n",
        "\n",
        "    fig, ax = plt.subplots(5, 2, figsize=(16, 12))\n",
        "    fig.subplots_adjust(hspace=0.4, wspace=-0.2)\n",
        "\n",
        "    for i, (prediction, img, labels) in enumerate(zip(pred, r_images, r_labels)):\n",
        "        ax[i, 0].imshow(np.squeeze(img))\n",
        "        ax[i, 0].get_xaxis().set_visible(False)\n",
        "        ax[i, 0].get_yaxis().set_visible(False)\n",
        "        ax[i, 0].text(10., -1.5, f'label {labels}')\n",
        "        ax[i, 1].bar(np.arange(len(prediction)), prediction)\n",
        "        ax[i, 1].set_xticks(np.arange(len(prediction)))\n",
        "        ax[i, 1].set_title(f\"predictions:\")\n",
        "    \n",
        "    plt.show()"
      ]
    },
    {
      "cell_type": "code",
      "execution_count": null,
      "metadata": {
        "id": "rB5ReuPYCiqO"
      },
      "outputs": [],
      "source": [
        "predictions(mlp_best)"
      ]
    },
    {
      "cell_type": "code",
      "execution_count": null,
      "metadata": {
        "id": "WZnfAJf-CiqO"
      },
      "outputs": [],
      "source": [
        "predictions(cnn_best)"
      ]
    },
    {
      "cell_type": "code",
      "execution_count": null,
      "metadata": {
        "id": "HGItoZcUCiqO"
      },
      "outputs": [],
      "source": []
    }
  ],
  "metadata": {
    "kernelspec": {
      "display_name": "Python 3",
      "language": "python",
      "name": "python3"
    },
    "language_info": {
      "codemirror_mode": {
        "name": "ipython",
        "version": 3
      },
      "file_extension": ".py",
      "mimetype": "text/x-python",
      "name": "python",
      "nbconvert_exporter": "python",
      "pygments_lexer": "ipython3",
      "version": "3.7.1"
    },
    "colab": {
      "provenance": [],
      "include_colab_link": true
    }
  },
  "nbformat": 4,
  "nbformat_minor": 0
}