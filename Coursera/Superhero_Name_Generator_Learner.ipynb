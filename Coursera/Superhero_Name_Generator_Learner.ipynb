{
  "nbformat": 4,
  "nbformat_minor": 0,
  "metadata": {
    "colab": {
      "provenance": [],
      "include_colab_link": true
    },
    "kernelspec": {
      "display_name": "Python 3",
      "language": "python",
      "name": "python3"
    },
    "language_info": {
      "codemirror_mode": {
        "name": "ipython",
        "version": 3
      },
      "file_extension": ".py",
      "mimetype": "text/x-python",
      "name": "python",
      "nbconvert_exporter": "python",
      "pygments_lexer": "ipython3",
      "version": "3.8.3"
    }
  },
  "cells": [
    {
      "cell_type": "markdown",
      "metadata": {
        "id": "view-in-github",
        "colab_type": "text"
      },
      "source": [
        "<a href=\"https://colab.research.google.com/github/KielDeMarco/AI_Portfolio/blob/main/Coursera/Superhero_Name_Generator_Learner.ipynb\" target=\"_parent\"><img src=\"https://colab.research.google.com/assets/colab-badge.svg\" alt=\"Open In Colab\"/></a>"
      ]
    },
    {
      "cell_type": "markdown",
      "metadata": {
        "id": "21XXWP7Fpt2L"
      },
      "source": [
        "# Superhero (and Supervillain) Name Generator\n",
        "\n",
        "---\n",
        "\n",
        "[Superhero Names Dataset](https://github.com/am1tyadav/superhero)"
      ]
    },
    {
      "cell_type": "markdown",
      "metadata": {
        "id": "H6P0NU5Cpt2R"
      },
      "source": [
        "## Task 2\n",
        "\n",
        "1. Import the data\n",
        "2. Create a tokenizer\n",
        "3. Char to index and Index to char dictionaries"
      ]
    },
    {
      "cell_type": "code",
      "metadata": {
        "colab": {
          "base_uri": "https://localhost:8080/"
        },
        "id": "srULhalZpt2M",
        "outputId": "117e74e4-7933-4eaf-bed9-96d0d86abc2a"
      },
      "source": [
        "!git clone https://github.com/am1tyadav/superhero"
      ],
      "execution_count": null,
      "outputs": [
        {
          "output_type": "stream",
          "text": [
            "Cloning into 'superhero'...\n",
            "remote: Enumerating objects: 8, done.\u001b[K\n",
            "remote: Counting objects: 100% (8/8), done.\u001b[K\n",
            "remote: Compressing objects: 100% (7/7), done.\u001b[K\n",
            "remote: Total 8 (delta 0), reused 4 (delta 0), pack-reused 0\u001b[K\n",
            "Unpacking objects: 100% (8/8), done.\n"
          ],
          "name": "stdout"
        }
      ]
    },
    {
      "cell_type": "code",
      "metadata": {
        "id": "uq4CLmsLpt2P",
        "colab": {
          "base_uri": "https://localhost:8080/",
          "height": 35
        },
        "outputId": "e11b0524-1478-46bd-f9ee-522b629882d3"
      },
      "source": [
        "with open('superhero/superheroes.txt', 'r') as f:\n",
        "  data = f.read()\n",
        "\n",
        "data[:100]"
      ],
      "execution_count": null,
      "outputs": [
        {
          "output_type": "execute_result",
          "data": {
            "application/vnd.google.colaboratory.intrinsic+json": {
              "type": "string"
            },
            "text/plain": [
              "'jumpa\\t\\ndoctor fate\\t\\nstarlight\\t\\nisildur\\t\\nlasher\\t\\nvarvara\\t\\nthe target\\t\\naxel\\t\\nbattra\\t\\nchangeling\\t\\npyrrh'"
            ]
          },
          "metadata": {
            "tags": []
          },
          "execution_count": 4
        }
      ]
    },
    {
      "cell_type": "code",
      "metadata": {
        "id": "JqhtLuAHpt2R",
        "colab": {
          "base_uri": "https://localhost:8080/"
        },
        "outputId": "8c30507c-7537-48d9-ae27-05c717e634da"
      },
      "source": [
        "import tensorflow as tf\n",
        "print(tf.__version__)"
      ],
      "execution_count": null,
      "outputs": [
        {
          "output_type": "stream",
          "text": [
            "2.5.0\n"
          ],
          "name": "stdout"
        }
      ]
    },
    {
      "cell_type": "code",
      "metadata": {
        "id": "95Lo1Yqzpt2T"
      },
      "source": [
        "tokenizer = tf.keras.preprocessing.text.Tokenizer(\n",
        "    filters='!\"#$%&()*+,-./:;<=>?@[\\\\]^_`{|}~',\n",
        "    split='\\n',\n",
        ")"
      ],
      "execution_count": null,
      "outputs": []
    },
    {
      "cell_type": "code",
      "metadata": {
        "id": "qYfC4sj2pt2V"
      },
      "source": [
        "tokenizer.fit_on_texts(data)"
      ],
      "execution_count": null,
      "outputs": []
    },
    {
      "cell_type": "code",
      "metadata": {
        "id": "EO4-dPM6pt2X",
        "colab": {
          "base_uri": "https://localhost:8080/"
        },
        "outputId": "3c0f800a-fd2d-4434-9d20-a189de50205f"
      },
      "source": [
        "char_to_index = tokenizer.word_index\n",
        "index_to_char = dict((v,k) for k, v in char_to_index.items())\n",
        "\n",
        "print(index_to_char)"
      ],
      "execution_count": null,
      "outputs": [
        {
          "output_type": "stream",
          "text": [
            "{1: '\\t', 2: 'a', 3: 'e', 4: 'r', 5: 'o', 6: 'n', 7: 'i', 8: ' ', 9: 't', 10: 's', 11: 'l', 12: 'm', 13: 'h', 14: 'd', 15: 'c', 16: 'u', 17: 'g', 18: 'k', 19: 'b', 20: 'p', 21: 'y', 22: 'w', 23: 'f', 24: 'v', 25: 'j', 26: 'z', 27: 'x', 28: 'q'}\n"
          ],
          "name": "stdout"
        }
      ]
    },
    {
      "cell_type": "markdown",
      "metadata": {
        "id": "SMwtIw_Bpt2Z"
      },
      "source": [
        "## Task 3\n",
        "\n",
        "1. Converting between names and sequences"
      ]
    },
    {
      "cell_type": "code",
      "metadata": {
        "id": "N7iQLIXzpt2a",
        "colab": {
          "base_uri": "https://localhost:8080/"
        },
        "outputId": "a6b16a83-b0ef-4422-882f-12843f49da32"
      },
      "source": [
        "names = data.splitlines()\n",
        "names[:10]"
      ],
      "execution_count": null,
      "outputs": [
        {
          "output_type": "execute_result",
          "data": {
            "text/plain": [
              "['jumpa\\t',\n",
              " 'doctor fate\\t',\n",
              " 'starlight\\t',\n",
              " 'isildur\\t',\n",
              " 'lasher\\t',\n",
              " 'varvara\\t',\n",
              " 'the target\\t',\n",
              " 'axel\\t',\n",
              " 'battra\\t',\n",
              " 'changeling\\t']"
            ]
          },
          "metadata": {
            "tags": []
          },
          "execution_count": 10
        }
      ]
    },
    {
      "cell_type": "code",
      "metadata": {
        "id": "n_-TTfqipt2c",
        "colab": {
          "base_uri": "https://localhost:8080/"
        },
        "outputId": "c5bf481b-91c2-4385-c967-2970252060c8"
      },
      "source": [
        "tokenizer.texts_to_sequences(names[0])"
      ],
      "execution_count": null,
      "outputs": [
        {
          "output_type": "execute_result",
          "data": {
            "text/plain": [
              "[[25], [16], [12], [20], [2], [1]]"
            ]
          },
          "metadata": {
            "tags": []
          },
          "execution_count": 11
        }
      ]
    },
    {
      "cell_type": "code",
      "metadata": {
        "id": "P6IsKH1Upt2e"
      },
      "source": [
        "def name_to_seq(name):\n",
        "  return [tokenizer.texts_to_sequences(c)[0][0] for c in name]"
      ],
      "execution_count": null,
      "outputs": []
    },
    {
      "cell_type": "code",
      "metadata": {
        "id": "TuLUiMP3pt2g",
        "colab": {
          "base_uri": "https://localhost:8080/"
        },
        "outputId": "e5b1555e-9465-4f44-fc79-ef3ffe1d4bdb"
      },
      "source": [
        "name_to_seq(names[0])"
      ],
      "execution_count": null,
      "outputs": [
        {
          "output_type": "execute_result",
          "data": {
            "text/plain": [
              "[25, 16, 12, 20, 2, 1]"
            ]
          },
          "metadata": {
            "tags": []
          },
          "execution_count": 16
        }
      ]
    },
    {
      "cell_type": "code",
      "metadata": {
        "id": "yFUYhimKpt2h"
      },
      "source": [
        "def seq_to_name(seq):\n",
        "  return ''.join([index_to_char[i] for i in seq if i != 0])"
      ],
      "execution_count": null,
      "outputs": []
    },
    {
      "cell_type": "code",
      "metadata": {
        "id": "ROhCqmhLpt2k",
        "colab": {
          "base_uri": "https://localhost:8080/",
          "height": 35
        },
        "outputId": "65471bed-5e6f-42d3-99a5-91521d3f0b25"
      },
      "source": [
        "seq_to_name(name_to_seq(names[0]))"
      ],
      "execution_count": null,
      "outputs": [
        {
          "output_type": "execute_result",
          "data": {
            "application/vnd.google.colaboratory.intrinsic+json": {
              "type": "string"
            },
            "text/plain": [
              "'jumpa\\t'"
            ]
          },
          "metadata": {
            "tags": []
          },
          "execution_count": 20
        }
      ]
    },
    {
      "cell_type": "markdown",
      "metadata": {
        "id": "uCbAzsNjpt2m"
      },
      "source": [
        "## Task 4\n",
        "\n",
        "1. Creating sequences\n",
        "2. Padding all sequences"
      ]
    },
    {
      "cell_type": "code",
      "metadata": {
        "id": "zstNn-0dpt2m"
      },
      "source": [
        "sequences = []\n",
        "\n",
        "for name in names:\n",
        "  seq = name_to_seq(name)\n",
        "  if len(seq) >= 2:\n",
        "    sequences += [seq[:i] for i in range(2, len(seq) + 1)]"
      ],
      "execution_count": null,
      "outputs": []
    },
    {
      "cell_type": "code",
      "metadata": {
        "id": "BjRTMysvpt2o",
        "colab": {
          "base_uri": "https://localhost:8080/"
        },
        "outputId": "6c81673e-58a7-4284-f172-8e7ba4ad62be"
      },
      "source": [
        "sequences[:10]"
      ],
      "execution_count": null,
      "outputs": [
        {
          "output_type": "execute_result",
          "data": {
            "text/plain": [
              "[[25, 16],\n",
              " [25, 16, 12],\n",
              " [25, 16, 12, 20],\n",
              " [25, 16, 12, 20, 2],\n",
              " [25, 16, 12, 20, 2, 1],\n",
              " [14, 5],\n",
              " [14, 5, 15],\n",
              " [14, 5, 15, 9],\n",
              " [14, 5, 15, 9, 5],\n",
              " [14, 5, 15, 9, 5, 4]]"
            ]
          },
          "metadata": {
            "tags": []
          },
          "execution_count": 23
        }
      ]
    },
    {
      "cell_type": "code",
      "metadata": {
        "id": "SR68pu2tpt2q",
        "colab": {
          "base_uri": "https://localhost:8080/"
        },
        "outputId": "5fe884c7-62fb-4760-8e43-03c0032dda25"
      },
      "source": [
        "max_len = max([len(x) for x in sequences])\n",
        "print(max_len)"
      ],
      "execution_count": null,
      "outputs": [
        {
          "output_type": "stream",
          "text": [
            "33\n"
          ],
          "name": "stdout"
        }
      ]
    },
    {
      "cell_type": "code",
      "metadata": {
        "id": "h_1BtWO7pt2r",
        "colab": {
          "base_uri": "https://localhost:8080/"
        },
        "outputId": "f0c3f709-ef2f-4022-c106-d5ed3d09ae7c"
      },
      "source": [
        "padded_sequences = tf.keras.preprocessing.sequence.pad_sequences(\n",
        "    sequences, padding='pre',\n",
        "    maxlen=max_len\n",
        ")\n",
        "\n",
        "print(padded_sequences[0])"
      ],
      "execution_count": null,
      "outputs": [
        {
          "output_type": "stream",
          "text": [
            "[ 0  0  0  0  0  0  0  0  0  0  0  0  0  0  0  0  0  0  0  0  0  0  0  0\n",
            "  0  0  0  0  0  0  0 25 16]\n"
          ],
          "name": "stdout"
        }
      ]
    },
    {
      "cell_type": "code",
      "metadata": {
        "id": "sPlrLRpSpt2t",
        "colab": {
          "base_uri": "https://localhost:8080/"
        },
        "outputId": "54668f57-fa19-452a-c964-de0e8eb5e9ea"
      },
      "source": [
        "padded_sequences.shape"
      ],
      "execution_count": null,
      "outputs": [
        {
          "output_type": "execute_result",
          "data": {
            "text/plain": [
              "(88279, 33)"
            ]
          },
          "metadata": {
            "tags": []
          },
          "execution_count": 30
        }
      ]
    },
    {
      "cell_type": "markdown",
      "metadata": {
        "id": "YSyh3DQoFxEF"
      },
      "source": [
        "## Task 5: Creating Training and Validation Sets\n",
        "\n",
        "1. Creating training and validation sets"
      ]
    },
    {
      "cell_type": "code",
      "metadata": {
        "id": "BE4BIeSnpt2v",
        "colab": {
          "base_uri": "https://localhost:8080/"
        },
        "outputId": "287ac582-8f3e-4df6-90d4-756c6113084d"
      },
      "source": [
        "x, y = padded_sequences[:, :-1], padded_sequences[:, -1]\n",
        "print(x.shape, y.shape)"
      ],
      "execution_count": null,
      "outputs": [
        {
          "output_type": "stream",
          "text": [
            "(88279, 32) (88279,)\n"
          ],
          "name": "stdout"
        }
      ]
    },
    {
      "cell_type": "code",
      "metadata": {
        "id": "8B9sn0_2FxEG",
        "colab": {
          "base_uri": "https://localhost:8080/"
        },
        "outputId": "c361dcf5-84d5-4bca-87e3-1cab710daf0a"
      },
      "source": [
        "from sklearn.model_selection import train_test_split\n",
        "\n",
        "x_train, x_test, y_train, y_test = train_test_split(x, y)\n",
        "\n",
        "print(x_train.shape, y_train.shape)\n",
        "print(x_test.shape, y_test.shape)"
      ],
      "execution_count": null,
      "outputs": [
        {
          "output_type": "stream",
          "text": [
            "(66209, 32) (66209,)\n",
            "(22070, 32) (22070,)\n"
          ],
          "name": "stdout"
        }
      ]
    },
    {
      "cell_type": "code",
      "metadata": {
        "id": "cgqRZtqnpt2x",
        "colab": {
          "base_uri": "https://localhost:8080/"
        },
        "outputId": "9e8095bd-653d-4c4c-e836-af278b10985e"
      },
      "source": [
        "num_chars = len(char_to_index.keys()) + 1\n",
        "print(num_chars)"
      ],
      "execution_count": null,
      "outputs": [
        {
          "output_type": "stream",
          "text": [
            "29\n"
          ],
          "name": "stdout"
        }
      ]
    },
    {
      "cell_type": "markdown",
      "metadata": {
        "id": "W7AgXGOdFxEG"
      },
      "source": [
        "## Task 6: Creating the Model"
      ]
    },
    {
      "cell_type": "code",
      "metadata": {
        "id": "UwUv4czbFxEG",
        "colab": {
          "base_uri": "https://localhost:8080/"
        },
        "outputId": "ec4e13be-ae89-48c2-ff09-a4fbd0e1e994"
      },
      "source": [
        "from tensorflow.keras.models import Sequential\n",
        "from tensorflow.keras.layers import Embedding, Conv1D, MaxPool1D, LSTM\n",
        "from tensorflow.keras.layers import Bidirectional, Dense\n",
        "\n",
        "model = Sequential([\n",
        "                    Embedding(num_chars, 8, input_length=max_len-1),\n",
        "                    Conv1D(64, 5, strides=1, activation='tanh', padding='causal'),\n",
        "                    MaxPool1D(2),\n",
        "                    LSTM(32),\n",
        "                    Dense(num_chars, activation='softmax')\n",
        "])\n",
        "\n",
        "model.compile(\n",
        "    loss='sparse_categorical_crossentropy',\n",
        "    optimizer='adam',\n",
        "    metrics=['accuracy']\n",
        ")\n",
        "\n",
        "model.summary()"
      ],
      "execution_count": null,
      "outputs": [
        {
          "output_type": "stream",
          "text": [
            "Model: \"sequential\"\n",
            "_________________________________________________________________\n",
            "Layer (type)                 Output Shape              Param #   \n",
            "=================================================================\n",
            "embedding_2 (Embedding)      (None, 32, 8)             232       \n",
            "_________________________________________________________________\n",
            "conv1d (Conv1D)              (None, 32, 64)            2624      \n",
            "_________________________________________________________________\n",
            "max_pooling1d (MaxPooling1D) (None, 16, 64)            0         \n",
            "_________________________________________________________________\n",
            "lstm (LSTM)                  (None, 32)                12416     \n",
            "_________________________________________________________________\n",
            "dense (Dense)                (None, 29)                957       \n",
            "=================================================================\n",
            "Total params: 16,229\n",
            "Trainable params: 16,229\n",
            "Non-trainable params: 0\n",
            "_________________________________________________________________\n"
          ],
          "name": "stdout"
        }
      ]
    },
    {
      "cell_type": "markdown",
      "metadata": {
        "id": "5rv6TyAaFxEG"
      },
      "source": [
        "## Task 7: Training the Model"
      ]
    },
    {
      "cell_type": "code",
      "metadata": {
        "id": "j0Ssl4qupt22",
        "colab": {
          "base_uri": "https://localhost:8080/"
        },
        "outputId": "f228f8d7-9b0a-458e-9bfa-14258aa92227"
      },
      "source": [
        "history = model.fit(\n",
        "    x_train, y_train,\n",
        "    validation_data=(x_test, y_test),\n",
        "    epochs=50, verbose=2,\n",
        "    callbacks=[\n",
        "               tf.keras.callbacks.EarlyStopping(monitor='val_accuracy', patience=3)\n",
        "    ]\n",
        ")"
      ],
      "execution_count": null,
      "outputs": [
        {
          "output_type": "stream",
          "text": [
            "Epoch 1/50\n",
            "2070/2070 - 43s - loss: 2.7426 - accuracy: 0.1921 - val_loss: 2.5665 - val_accuracy: 0.2294\n",
            "Epoch 2/50\n",
            "2070/2070 - 9s - loss: 2.5322 - accuracy: 0.2385 - val_loss: 2.4896 - val_accuracy: 0.2501\n",
            "Epoch 3/50\n",
            "2070/2070 - 9s - loss: 2.4641 - accuracy: 0.2560 - val_loss: 2.4390 - val_accuracy: 0.2601\n",
            "Epoch 4/50\n",
            "2070/2070 - 9s - loss: 2.4171 - accuracy: 0.2680 - val_loss: 2.4115 - val_accuracy: 0.2715\n",
            "Epoch 5/50\n",
            "2070/2070 - 9s - loss: 2.3827 - accuracy: 0.2787 - val_loss: 2.3838 - val_accuracy: 0.2794\n",
            "Epoch 6/50\n",
            "2070/2070 - 9s - loss: 2.3501 - accuracy: 0.2898 - val_loss: 2.3545 - val_accuracy: 0.2873\n",
            "Epoch 7/50\n",
            "2070/2070 - 9s - loss: 2.3222 - accuracy: 0.2983 - val_loss: 2.3371 - val_accuracy: 0.2906\n",
            "Epoch 8/50\n",
            "2070/2070 - 9s - loss: 2.2970 - accuracy: 0.3053 - val_loss: 2.3237 - val_accuracy: 0.2952\n",
            "Epoch 9/50\n",
            "2070/2070 - 9s - loss: 2.2729 - accuracy: 0.3122 - val_loss: 2.3056 - val_accuracy: 0.3019\n",
            "Epoch 10/50\n",
            "2070/2070 - 9s - loss: 2.2506 - accuracy: 0.3213 - val_loss: 2.2938 - val_accuracy: 0.3085\n",
            "Epoch 11/50\n",
            "2070/2070 - 9s - loss: 2.2304 - accuracy: 0.3278 - val_loss: 2.2783 - val_accuracy: 0.3126\n",
            "Epoch 12/50\n",
            "2070/2070 - 9s - loss: 2.2119 - accuracy: 0.3332 - val_loss: 2.2686 - val_accuracy: 0.3154\n",
            "Epoch 13/50\n",
            "2070/2070 - 9s - loss: 2.1951 - accuracy: 0.3375 - val_loss: 2.2615 - val_accuracy: 0.3200\n",
            "Epoch 14/50\n",
            "2070/2070 - 9s - loss: 2.1792 - accuracy: 0.3429 - val_loss: 2.2519 - val_accuracy: 0.3234\n",
            "Epoch 15/50\n",
            "2070/2070 - 9s - loss: 2.1639 - accuracy: 0.3458 - val_loss: 2.2480 - val_accuracy: 0.3234\n",
            "Epoch 16/50\n",
            "2070/2070 - 9s - loss: 2.1495 - accuracy: 0.3529 - val_loss: 2.2407 - val_accuracy: 0.3288\n",
            "Epoch 17/50\n",
            "2070/2070 - 9s - loss: 2.1368 - accuracy: 0.3566 - val_loss: 2.2307 - val_accuracy: 0.3320\n",
            "Epoch 18/50\n",
            "2070/2070 - 9s - loss: 2.1248 - accuracy: 0.3612 - val_loss: 2.2307 - val_accuracy: 0.3325\n",
            "Epoch 19/50\n",
            "2070/2070 - 9s - loss: 2.1132 - accuracy: 0.3659 - val_loss: 2.2229 - val_accuracy: 0.3346\n",
            "Epoch 20/50\n",
            "2070/2070 - 9s - loss: 2.1021 - accuracy: 0.3696 - val_loss: 2.2228 - val_accuracy: 0.3372\n",
            "Epoch 21/50\n",
            "2070/2070 - 9s - loss: 2.0923 - accuracy: 0.3715 - val_loss: 2.2192 - val_accuracy: 0.3403\n",
            "Epoch 22/50\n",
            "2070/2070 - 9s - loss: 2.0839 - accuracy: 0.3755 - val_loss: 2.2174 - val_accuracy: 0.3394\n",
            "Epoch 23/50\n",
            "2070/2070 - 9s - loss: 2.0745 - accuracy: 0.3765 - val_loss: 2.2150 - val_accuracy: 0.3405\n",
            "Epoch 24/50\n",
            "2070/2070 - 9s - loss: 2.0660 - accuracy: 0.3817 - val_loss: 2.2102 - val_accuracy: 0.3428\n",
            "Epoch 25/50\n",
            "2070/2070 - 9s - loss: 2.0584 - accuracy: 0.3834 - val_loss: 2.2089 - val_accuracy: 0.3445\n",
            "Epoch 26/50\n",
            "2070/2070 - 9s - loss: 2.0495 - accuracy: 0.3843 - val_loss: 2.2078 - val_accuracy: 0.3450\n",
            "Epoch 27/50\n",
            "2070/2070 - 9s - loss: 2.0429 - accuracy: 0.3877 - val_loss: 2.2091 - val_accuracy: 0.3459\n",
            "Epoch 28/50\n",
            "2070/2070 - 9s - loss: 2.0364 - accuracy: 0.3895 - val_loss: 2.2038 - val_accuracy: 0.3489\n",
            "Epoch 29/50\n",
            "2070/2070 - 9s - loss: 2.0297 - accuracy: 0.3922 - val_loss: 2.2049 - val_accuracy: 0.3472\n",
            "Epoch 30/50\n",
            "2070/2070 - 9s - loss: 2.0227 - accuracy: 0.3946 - val_loss: 2.1999 - val_accuracy: 0.3511\n",
            "Epoch 31/50\n",
            "2070/2070 - 9s - loss: 2.0160 - accuracy: 0.3960 - val_loss: 2.2068 - val_accuracy: 0.3484\n",
            "Epoch 32/50\n",
            "2070/2070 - 9s - loss: 2.0107 - accuracy: 0.3967 - val_loss: 2.2018 - val_accuracy: 0.3527\n",
            "Epoch 33/50\n",
            "2070/2070 - 9s - loss: 2.0040 - accuracy: 0.3999 - val_loss: 2.2035 - val_accuracy: 0.3516\n",
            "Epoch 34/50\n",
            "2070/2070 - 9s - loss: 1.9987 - accuracy: 0.4021 - val_loss: 2.2041 - val_accuracy: 0.3522\n",
            "Epoch 35/50\n",
            "2070/2070 - 9s - loss: 1.9927 - accuracy: 0.4029 - val_loss: 2.1992 - val_accuracy: 0.3527\n"
          ],
          "name": "stdout"
        }
      ]
    },
    {
      "cell_type": "markdown",
      "metadata": {
        "id": "I-Q_XbWbFxEH"
      },
      "source": [
        "## Task 8: Generate Names!"
      ]
    },
    {
      "cell_type": "code",
      "metadata": {
        "id": "9f50aTRcpt24",
        "colab": {
          "base_uri": "https://localhost:8080/",
          "height": 265
        },
        "outputId": "8d2daf8c-c82d-473c-fa69-08b68e11fae7"
      },
      "source": [
        "from matplotlib import pyplot as plt\n",
        "\n",
        "epochs_ran = len(history.history['loss'])\n",
        "\n",
        "plt.plot(range(0, epochs_ran), history.history['val_accuracy'], label='Validation')\n",
        "plt.plot(range(0, epochs_ran), history.history['accuracy'], label='Training')\n",
        "plt.legend()\n",
        "plt.show()"
      ],
      "execution_count": null,
      "outputs": [
        {
          "output_type": "display_data",
          "data": {
            "image/png": "[encoded data removed]",
            "text/plain": [
              "<Figure size 432x288 with 1 Axes>"
            ]
          },
          "metadata": {
            "tags": [],
            "needs_background": "light"
          }
        }
      ]
    },
    {
      "cell_type": "code",
      "metadata": {
        "id": "faQ0FInlpt26"
      },
      "source": [
        "def generate_names(seed):\n",
        "  for i in range(0, 40):\n",
        "    seq = name_to_seq(seed)\n",
        "    padded = tf.keras.preprocessing.sequence.pad_sequences([seq], \n",
        "                                                         padding='pre', \n",
        "                                                         maxlen=max_len-1,\n",
        "                                                         truncating='pre')\n",
        "    pred = model.predict(padded)[0]\n",
        "    pred_char = index_to_char[tf.argmax(pred).numpy()]\n",
        "    seed += pred_char\n",
        "\n",
        "    if pred_char == '\\t':\n",
        "      break\n",
        "  print(seed)"
      ],
      "execution_count": null,
      "outputs": []
    },
    {
      "cell_type": "code",
      "metadata": {
        "colab": {
          "base_uri": "https://localhost:8080/"
        },
        "id": "lpZrkMAdPwlm",
        "outputId": "06107416-ad6d-41bb-9a7f-3b57ec112ab0"
      },
      "source": [
        "generate_names('x')"
      ],
      "execution_count": null,
      "outputs": [
        {
          "output_type": "stream",
          "text": [
            "xanther\t\n"
          ],
          "name": "stdout"
        }
      ]
    }
  ]
}